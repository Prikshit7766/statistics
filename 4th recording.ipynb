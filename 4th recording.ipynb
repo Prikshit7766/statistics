{
 "cells": [
  {
   "cell_type": "code",
   "execution_count": 2,
   "id": "b8906308",
   "metadata": {},
   "outputs": [
    {
     "name": "stderr",
     "output_type": "stream",
     "text": [
      "Cloning into 'T-test-an-Correlation-using-python'...\n"
     ]
    }
   ],
   "source": [
    "!git clone https://github.com/krishnaik06/T-test-an-Correlation-using-python.git"
   ]
  },
  {
   "cell_type": "code",
   "execution_count": null,
   "id": "da6c62db",
   "metadata": {},
   "outputs": [],
   "source": []
  }
 ],
 "metadata": {
  "kernelspec": {
   "display_name": "Python 3 (ipykernel)",
   "language": "python",
   "name": "python3"
  },
  "language_info": {
   "codemirror_mode": {
    "name": "ipython",
    "version": 3
   },
   "file_extension": ".py",
   "mimetype": "text/x-python",
   "name": "python",
   "nbconvert_exporter": "python",
   "pygments_lexer": "ipython3",
   "version": "3.9.12"
  }
 },
 "nbformat": 4,
 "nbformat_minor": 5
}
